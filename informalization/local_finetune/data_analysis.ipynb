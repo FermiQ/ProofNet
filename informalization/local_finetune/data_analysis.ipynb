{
 "cells": [
  {
   "cell_type": "code",
   "execution_count": 1,
   "id": "b9acb1cb",
   "metadata": {},
   "outputs": [],
   "source": [
    "import ndjson\n",
    "\n",
    "from transformers import GPT2Tokenizer\n",
    "\n",
    "import matplotlib.pyplot as plt"
   ]
  },
  {
   "cell_type": "code",
   "execution_count": 2,
   "id": "982f5fbb",
   "metadata": {},
   "outputs": [],
   "source": [
    "with open(\"../finetune_data/v2_finetune.jsonl\") as f: \n",
    "    data = ndjson.load(f)"
   ]
  },
  {
   "cell_type": "code",
   "execution_count": 3,
   "id": "64e3cda1",
   "metadata": {},
   "outputs": [],
   "source": [
    "tokenizer = GPT2Tokenizer.from_pretrained(\"EleutherAI/gpt-neo-1.3B\")"
   ]
  },
  {
   "cell_type": "markdown",
   "id": "e6ff9829",
   "metadata": {},
   "source": [
    "lens = [len(tokenizer.encode(x[\"prompt\"]+x[\"completion\"])) for x in data]\n",
    "plt.hist(lens)\n",
    "print(max(lens))"
   ]
  },
  {
   "cell_type": "code",
   "execution_count": 4,
   "id": "86d562cf",
   "metadata": {},
   "outputs": [
    {
     "data": {
      "text/plain": [
       "{'input_ids': [[71]], 'attention_mask': [[1]]}"
      ]
     },
     "execution_count": 4,
     "metadata": {},
     "output_type": "execute_result"
    }
   ],
   "source": [
    "tokenizer(['h'])"
   ]
  },
  {
   "cell_type": "code",
   "execution_count": 5,
   "id": "7261fa9a",
   "metadata": {},
   "outputs": [
    {
     "data": {
      "text/plain": [
       "'<|endoftext|>'"
      ]
     },
     "execution_count": 5,
     "metadata": {},
     "output_type": "execute_result"
    }
   ],
   "source": [
    "tokenizer.eos_token"
   ]
  },
  {
   "cell_type": "code",
   "execution_count": 6,
   "id": "9730e46a",
   "metadata": {},
   "outputs": [
    {
     "data": {
      "text/plain": [
       "2"
      ]
     },
     "execution_count": 6,
     "metadata": {},
     "output_type": "execute_result"
    }
   ],
   "source": [
    "tokenizer.add_special_tokens({'pad_token': '<|pad|>', 'sep_token': '[SEP]'})"
   ]
  },
  {
   "cell_type": "code",
   "execution_count": 7,
   "id": "576f4e69",
   "metadata": {},
   "outputs": [
    {
     "data": {
      "text/plain": [
       "'[SEP]'"
      ]
     },
     "execution_count": 7,
     "metadata": {},
     "output_type": "execute_result"
    }
   ],
   "source": [
    "tokenizer.sep_token"
   ]
  },
  {
   "cell_type": "code",
   "execution_count": 15,
   "id": "ae06cb18",
   "metadata": {},
   "outputs": [
    {
     "name": "stdout",
     "output_type": "stream",
     "text": [
      "[[71, 50258, 73, 50256, 50257, 50257, 50257, 50257, 50257, 50257]]\n"
     ]
    }
   ],
   "source": [
    "x = tokenizer(['h' +tokenizer.sep_token + 'j' + tokenizer.eos_token], padding='max_length', max_length=10)['input_ids']\n",
    "\n",
    "print(x)"
   ]
  },
  {
   "cell_type": "code",
   "execution_count": 16,
   "id": "3c2538b7",
   "metadata": {},
   "outputs": [
    {
     "data": {
      "text/plain": [
       "'h [SEP] j<|endoftext|> <|pad|> <|pad|> <|pad|> <|pad|> <|pad|> <|pad|>'"
      ]
     },
     "execution_count": 16,
     "metadata": {},
     "output_type": "execute_result"
    }
   ],
   "source": [
    "tokenizer.decode(x[0], skip_special_tokens=False)"
   ]
  }
 ],
 "metadata": {
  "kernelspec": {
   "display_name": "Python 3 (ipykernel)",
   "language": "python",
   "name": "python3"
  },
  "language_info": {
   "codemirror_mode": {
    "name": "ipython",
    "version": 3
   },
   "file_extension": ".py",
   "mimetype": "text/x-python",
   "name": "python",
   "nbconvert_exporter": "python",
   "pygments_lexer": "ipython3",
   "version": "3.10.4"
  }
 },
 "nbformat": 4,
 "nbformat_minor": 5
}
